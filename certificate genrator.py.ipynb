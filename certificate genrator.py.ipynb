{
 "cells": [
  {
   "cell_type": "code",
   "execution_count": 6,
   "id": "17795c66",
   "metadata": {},
   "outputs": [
    {
     "name": "stdout",
     "output_type": "stream",
     "text": [
      "Collecting qrcode\n",
      "  Downloading qrcode-7.4.2-py3-none-any.whl (46 kB)\n",
      "                                              0.0/46.2 kB ? eta -:--:--\n",
      "     ---------------------------------------- 46.2/46.2 kB 2.2 MB/s eta 0:00:00\n",
      "Requirement already satisfied: typing-extensions in c:\\users\\bhavya\\anaconda3\\lib\\site-packages (from qrcode) (4.5.0)\n",
      "Collecting pypng (from qrcode)\n",
      "  Downloading pypng-0.20220715.0-py3-none-any.whl (58 kB)\n",
      "                                              0.0/58.1 kB ? eta -:--:--\n",
      "     ---------------------------------------- 58.1/58.1 kB 3.0 MB/s eta 0:00:00\n",
      "Requirement already satisfied: colorama in c:\\users\\bhavya\\anaconda3\\lib\\site-packages (from qrcode) (0.4.6)\n",
      "Installing collected packages: pypng, qrcode\n",
      "Successfully installed pypng-0.20220715.0 qrcode-7.4.2\n"
     ]
    }
   ],
   "source": [
    "!pip install qrcode"
   ]
  },
  {
   "cell_type": "code",
   "execution_count": 14,
   "id": "3e690963",
   "metadata": {},
   "outputs": [
    {
     "name": "stdout",
     "output_type": "stream",
     "text": [
      "Requirement already satisfied: qrcode[pil] in c:\\users\\bhavya\\anaconda3\\lib\\site-packages (7.4.2)\n",
      "Requirement already satisfied: typing-extensions in c:\\users\\bhavya\\anaconda3\\lib\\site-packages (from qrcode[pil]) (4.5.0)\n",
      "Requirement already satisfied: pypng in c:\\users\\bhavya\\anaconda3\\lib\\site-packages (from qrcode[pil]) (0.20220715.0)\n",
      "Requirement already satisfied: colorama in c:\\users\\bhavya\\anaconda3\\lib\\site-packages (from qrcode[pil]) (0.4.6)\n",
      "Requirement already satisfied: pillow>=9.1.0 in c:\\users\\bhavya\\anaconda3\\lib\\site-packages (from qrcode[pil]) (9.4.0)\n",
      "Note: you may need to restart the kernel to use updated packages.\n"
     ]
    }
   ],
   "source": [
    "pip install qrcode[pil]\n"
   ]
  },
  {
   "cell_type": "code",
   "execution_count": 2,
   "id": "00a8c12f",
   "metadata": {},
   "outputs": [
    {
     "name": "stdout",
     "output_type": "stream",
     "text": [
      "Processing certificate for: Bhavya\n",
      "Certificate saved to: C:\\Users\\BHAVYA\\Downloads\\certificate genrator/certi_Bhavya.png\n",
      "\n",
      "Processing certificate for: Rahul\n",
      "Certificate saved to: C:\\Users\\BHAVYA\\Downloads\\certificate genrator/certi_Rahul.png\n",
      "\n",
      "Skipping row 3 as no name is provided.\n",
      "Skipping row 4 as no name is provided.\n",
      "Skipping row 5 as no name is provided.\n",
      "Skipping row 6 as no name is provided.\n",
      "Skipping row 7 as no name is provided.\n",
      "Skipping row 8 as no name is provided.\n",
      "Skipping row 9 as no name is provided.\n",
      "Skipping row 10 as no name is provided.\n"
     ]
    },
    {
     "name": "stderr",
     "output_type": "stream",
     "text": [
      "C:\\Users\\BHAVYA\\AppData\\Local\\Temp\\ipykernel_24700\\1040322010.py:67: DeprecationWarning: textsize is deprecated and will be removed in Pillow 10 (2023-07-01). Use textbbox or textlength instead.\n",
      "  text_width, text_height = draw.textsize(certi_name, font=font)\n",
      "C:\\Users\\BHAVYA\\AppData\\Local\\Temp\\ipykernel_24700\\1040322010.py:67: DeprecationWarning: textsize is deprecated and will be removed in Pillow 10 (2023-07-01). Use textbbox or textlength instead.\n",
      "  text_width, text_height = draw.textsize(certi_name, font=font)\n"
     ]
    }
   ],
   "source": [
    "from PIL import Image, ImageDraw, ImageFont\n",
    "import cv2 as cv\n",
    "import openpyxl\n",
    "import numpy as np\n",
    "import qrcode\n",
    "\n",
    "# Paths\n",
    "template_path = 'template12.png'   # The path to the uploaded template\n",
    "details_path = 'Book1.xlsx'  # Your Excel file with names\n",
    "output_path = r'C:\\Users\\BHAVYA\\Downloads\\certificate genrator'  # The output directory\n",
    "\n",
    "# Font settings\n",
    "font_size = 60  # Adjust based on your template\n",
    "font_color = (54, 84, 141)  # The blue color in RGB (extracted from the image)\n",
    "font_path = \"arial.ttf\"  # Path to the TTF font file\n",
    "\n",
    "# Coordinates adjustments (adjust these values)\n",
    "coordinate_y_adjustment = 250  # Adjust this based on your template\n",
    "coordinate_x_adjustment = 0  # Centered horizontally\n",
    "\n",
    "# QR Code settings\n",
    "qr_code_size = 100  # Size of the QR code\n",
    "\n",
    "# Load the Excel file\n",
    "obj = openpyxl.load_workbook(details_path)\n",
    "sheet = obj.active\n",
    "\n",
    "# Generate certificates for the first 10 names\n",
    "for i in range(1, 11):\n",
    "    # Get the name from the Excel sheet\n",
    "    get_name = sheet.cell(row=i, column=1)\n",
    "    certi_name = get_name.value\n",
    "    \n",
    "    # Skip if the name is None\n",
    "    if certi_name is None:\n",
    "        print(f\"Skipping row {i} as no name is provided.\")\n",
    "        continue\n",
    "    \n",
    "    print(f\"Processing certificate for: {certi_name}\")\n",
    "    \n",
    "    # Generate the QR code with the participant's name\n",
    "    qr = qrcode.QRCode(version=1, error_correction=qrcode.constants.ERROR_CORRECT_H, box_size=10, border=4)\n",
    "    qr.add_data(f\"Name: {certi_name}\")\n",
    "    qr.make(fit=True)\n",
    "    \n",
    "    # Convert the QR code into an image\n",
    "    qr_img = qr.make_image(fill_color=\"black\", back_color=\"white\").convert('RGB')\n",
    "    qr_img = qr_img.resize((qr_code_size, qr_code_size))  # Resize the QR code\n",
    "    \n",
    "    # Convert QR code image to a format OpenCV can use\n",
    "    qr_img = cv.cvtColor(np.array(qr_img), cv.COLOR_RGB2BGR)\n",
    "    \n",
    "    # Read the certificate template\n",
    "    img = cv.imread(template_path)\n",
    "    \n",
    "    # Convert OpenCV image to PIL\n",
    "    img_pil = Image.fromarray(cv.cvtColor(img, cv.COLOR_BGR2RGB))\n",
    "    draw = ImageDraw.Draw(img_pil)\n",
    "\n",
    "    # Load the font\n",
    "    try:\n",
    "        font = ImageFont.truetype(font_path, font_size)\n",
    "    except OSError:\n",
    "        font = ImageFont.load_default()\n",
    "\n",
    "    # Calculate text position\n",
    "    text_width, text_height = draw.textsize(certi_name, font=font)\n",
    "    text_x = (img_pil.width - text_width) / 2 + coordinate_x_adjustment\n",
    "    text_y = coordinate_y_adjustment  # This should be set according to your template's layout\n",
    "    \n",
    "    # Add the text to the image\n",
    "    draw.text((text_x, text_y), certi_name, font=font, fill=font_color)\n",
    "    \n",
    "    # Convert PIL image back to OpenCV\n",
    "    img = cv.cvtColor(np.array(img_pil), cv.COLOR_RGB2BGR)\n",
    "    \n",
    "    # Position to overlay the QR code (adjust according to your template)\n",
    "    qr_x = img.shape[1] - qr_code_size - 50  # 50 pixels from the right edge\n",
    "    qr_y = img.shape[0] - qr_code_size - 50  # 50 pixels from the bottom edge\n",
    "    \n",
    "    # Overlay the QR code onto the certificate\n",
    "    img[qr_y:qr_y + qr_code_size, qr_x:qr_x + qr_code_size] = qr_img\n",
    "    \n",
    "    # Output path for the generated certificate\n",
    "    certi_path = f\"{output_path}/certi_{certi_name}.png\"\n",
    "    \n",
    "    # Save the certificate\n",
    "    cv.imwrite(certi_path, img)\n",
    "    print(f\"Certificate saved to: {certi_path}\\n\")\n"
   ]
  },
  {
   "cell_type": "code",
   "execution_count": null,
   "id": "d03af2a6",
   "metadata": {},
   "outputs": [],
   "source": []
  }
 ],
 "metadata": {
  "kernelspec": {
   "display_name": "Python 3 (ipykernel)",
   "language": "python",
   "name": "python3"
  },
  "language_info": {
   "codemirror_mode": {
    "name": "ipython",
    "version": 3
   },
   "file_extension": ".py",
   "mimetype": "text/x-python",
   "name": "python",
   "nbconvert_exporter": "python",
   "pygments_lexer": "ipython3",
   "version": "3.11.3"
  }
 },
 "nbformat": 4,
 "nbformat_minor": 5
}
